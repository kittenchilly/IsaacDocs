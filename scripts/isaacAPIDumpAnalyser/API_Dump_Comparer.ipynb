{
 "cells": [
  {
   "cell_type": "code",
   "execution_count": 28,
   "metadata": {},
   "outputs": [],
   "source": [
    "import glob\n",
    "\n",
    "ignoreFiles= [\"tags.md\", \"index.md\",\"PLACEHOLDER.md\", \"GlobalFunctions.md\", \"Globals.md\", \"ModReference.md\"]\n",
    "\n",
    "docClasses = {}\n",
    "\n",
    "for filepath in glob.iglob('../../docs/*.md'):\n",
    "    trimFileName = filepath.split(\"\\\\\")[len(filepath.split(\"\\\\\"))-1]\n",
    "    if trimFileName in ignoreFiles:\n",
    "        continue\n",
    "\n",
    "    className = trimFileName.replace(\".md\",\"\")\n",
    "    docClasses[className] = []\n",
    "\n",
    "    file = open(filepath, 'r')\n",
    "    docLines = file.readlines()\n",
    "    for line in docLines:\n",
    "        if line.strip().startswith(\"###\") and not line.strip().startswith(\"####\") and \"aria-label\" in line:\n",
    "            filteredLine = line.replace(\"#\",\"\").replace(\"Â·\",\"\").replace(\"()\",\"\").split(\"{\")[0].strip()\n",
    "            docClasses[className].append(filteredLine)\n"
   ]
  },
  {
   "cell_type": "code",
   "execution_count": 29,
   "metadata": {},
   "outputs": [],
   "source": [
    "file2 = open('api_dump.dat', 'r')\n",
    "bindsLines = file2.readlines()\n",
    "\n",
    "nameReplace = {\n",
    "    \"APIOverride.OverriddenClasses.Level.Original.__const\": \"Level\",\n",
    "    \"APIOverride.OverriddenClasses.Level.Original\": \"Level\",\n",
    "    \"ItemConfig.Config\": \"ItemConfig\"\n",
    "}\n",
    "\n",
    "classes = {}\n",
    "\n",
    "curClass= \"\"\n",
    "curClassLVL= 0\n",
    "for line in bindsLines:\n",
    "    if not line.strip():\n",
    "        continue\n",
    "    lStripLine= line.lstrip()\n",
    "    leadingTabs = len(line) - len(lStripLine)\n",
    "    if lStripLine.startswith(\"Class\") or lStripLine.startswith(\"Namespace\") :\n",
    "        className = lStripLine.split(\" \")[1]\n",
    "        if className in nameReplace:\n",
    "            className = nameReplace[className]\n",
    "        className = className.replace(\".\",\"_\").strip() # make it doc complient\n",
    "        classes[className] = []\n",
    "        curClass = className\n",
    "        curClassLVL = leadingTabs\n",
    "    elif lStripLine.startswith(\"Table\") or lStripLine.startswith(\"Subclasses\") :\n",
    "        continue\n",
    "    else:\n",
    "        if curClass and curClassLVL < leadingTabs:\n",
    "            filterFunc = line.strip().split(\" \")[0].split(\":\")[0]\n",
    "            if filterFunc == \"__call\":\n",
    "                continue\n",
    "            classes[curClass].append(filterFunc)"
   ]
  },
  {
   "cell_type": "markdown",
   "metadata": {},
   "source": [
    "### Classes and functions that are not documented, but were found by the current automatic api grabber tool"
   ]
  },
  {
   "cell_type": "code",
   "execution_count": 30,
   "metadata": {},
   "outputs": [
    {
     "name": "stdout",
     "output_type": "stream",
     "text": [
      "NOT DOCUMENTED CONTENT IN CLASS: EntityPlayer \t CONTENT: SpriteScale\n",
      "NOT DOCUMENTED CONTENT IN CLASS: Sprite \t CONTENT: SetFrame_1\n"
     ]
    }
   ],
   "source": [
    "for dumpClass in classes:\n",
    "    if dumpClass not in docClasses:\n",
    "        if len(classes[dumpClass])==0:\n",
    "            continue\n",
    "        print(\"NOT DOCUMENTED CLASS:\", dumpClass)\n",
    "    else:\n",
    "        docClassContents = docClasses[dumpClass]\n",
    "        dumpClassContents = classes[dumpClass]\n",
    "        for dumpContent in dumpClassContents:\n",
    "            if dumpContent not in docClassContents:\n",
    "                print(\"NOT DOCUMENTED CONTENT IN CLASS:\",dumpClass,\"\\t\", \"CONTENT:\",dumpContent)"
   ]
  },
  {
   "cell_type": "markdown",
   "metadata": {},
   "source": [
    "### Classes and functions that are documented, but not found by the current automatic api grabber tool"
   ]
  },
  {
   "cell_type": "code",
   "execution_count": 31,
   "metadata": {},
   "outputs": [],
   "source": [
    "# Ignore these, because they are from the main.lua file of the game\n",
    "ignoreFuncs = [\"AddTearFlags\",\"ClearTearFlags\", \"HasTearFlags\", \"Color.Default\", \"Vector.Zero\", \"Vector.One\", \"ClearProjectileFlags\", \"HasProjectileFlags\"]\n",
    "depricatedFuncs = [\"EntityPlayer.SecondaryActiveItem\", \"EntityPlayer.SetTargetTrapDoor\",\"EntityTear.Bounced\",\"GridEntityPoop.ReducedSpawnRate\",\"ItemConfig_Item.Discharged\",\"Room.TryPlaceLadder\",\"GridEntityRock.GetSprite\"]\n",
    "\n",
    "for docClass in docClasses:\n",
    "    if docClass not in classes:\n",
    "        print(\"NOT CAPTURED CLASS:\", docClass)\n",
    "    else:\n",
    "        docClassContents = docClasses[docClass]\n",
    "        dumpClassContents = classes[docClass]\n",
    "        for content in docClassContents:\n",
    "            if content not in dumpClassContents:\n",
    "                if content == docClass or content in ignoreFuncs or docClass+\".\"+content in depricatedFuncs:\n",
    "                    # Ignore Constructors\n",
    "                    continue\n",
    "                print(\"NOT CAPTURED CONTENT IN CLASS:\",docClass,\"\\t\", \"CONTENT:\",content)"
   ]
  }
 ],
 "metadata": {
  "kernelspec": {
   "display_name": "Python 3.8.8 ('base')",
   "language": "python",
   "name": "python3"
  },
  "language_info": {
   "codemirror_mode": {
    "name": "ipython",
    "version": 3
   },
   "file_extension": ".py",
   "mimetype": "text/x-python",
   "name": "python",
   "nbconvert_exporter": "python",
   "pygments_lexer": "ipython3",
   "version": "3.8.8"
  },
  "vscode": {
   "interpreter": {
    "hash": "2315092423329623bdbe3717d58a9741767e325209cda18c0446253cbdf2b57e"
   }
  }
 },
 "nbformat": 4,
 "nbformat_minor": 4
}
